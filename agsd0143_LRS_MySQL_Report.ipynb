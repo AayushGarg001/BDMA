{
  "nbformat": 4,
  "nbformat_minor": 0,
  "metadata": {
    "colab": {
      "provenance": [],
      "include_colab_link": true
    },
    "kernelspec": {
      "name": "python3",
      "display_name": "Python 3"
    },
    "language_info": {
      "name": "python"
    }
  },
  "cells": [
    {
      "cell_type": "markdown",
      "metadata": {
        "id": "view-in-github",
        "colab_type": "text"
      },
      "source": [
        "<a href=\"https://colab.research.google.com/github/AayushGarg001/BDMA/blob/main/agsd0143_LRS_MySQL_Report.ipynb\" target=\"_parent\"><img src=\"https://colab.research.google.com/assets/colab-badge.svg\" alt=\"Open In Colab\"/></a>"
      ]
    },
    {
      "cell_type": "markdown",
      "source": [
        "# **Learning Recommendation System**\n",
        "## **Project Report**\n",
        "Submitted By:\n",
        "- Aayush Garg (055001)\n",
        "- Shefali Dhingra (055043)\n"
      ],
      "metadata": {
        "id": "zRsexAfcWZZP"
      }
    },
    {
      "cell_type": "markdown",
      "source": [
        "## Introduction\n",
        "\n",
        "### Project Overview\n",
        "The Learning Recommendation System (LRS) is designed to enhance the online learning experience by personalizing course recommendations based on user preferences, reviews, completion records, and course outlines. Using a relational database structure in MySQL, the system ensures efficient data storage, retrieval, and management, optimizing course discovery and user engagement.\n",
        "\n",
        "### Purpose of the Report\n",
        "This report provides a comprehensive analysis of the Learning Recommendation System, covering Database Schema & Design, Querying & Data Retrieval, Stress Testing & Performance Analysis, Normalization & Database Optimization, and Business Insights. The report also explores how data-driven decisions can enhance learning experiences, user engagement, and platform growth.\n",
        "\n",
        "## Database Schema & Design\n",
        "The database consists of eight core tables, structured for efficient management:\n",
        "- **Users (AG_USERS):** Stores user information, preferences, and sign-up dates.\n",
        "- **Categories (AG_CATEGORIES):** Defines course categories for classification.\n",
        "- **Courses (AG_COURSES):** Contains details of available courses, including category and ratings.\n",
        "- **Reviews (AG_REVIEWS):** Captures user reviews and ratings for courses.\n",
        "- **Completion Records (AG_COMPLETION_RECORDS):** Tracks user progress and completion status.\n",
        "- **Course Outlines (AG_COURSE_OUTLINES):** Stores learning materials uploaded by users.\n",
        "- **Recommendations (AG_RECOMMENDATIONS):** Provides personalized course recommendations.\n",
        "- **Outline-Based Recommendations (AG_OUTLINE_RECOMMENDATIONS):** Suggests courses based on uploaded outlines.\n",
        "\n",
        "The database adheres to normalization principles to reduce redundancy and ensure efficient query execution.\n",
        "\n",
        "### **Key Design Highlights**  \n",
        "- **Normalization:** The database is structured to maintain **1NF (atomicity), 2NF (no partial dependencies), and 3NF (no transitive dependencies)** ensuring **optimized queries and minimal redundancy**.  \n",
        "- **Foreign Key Constraints:** Proper relationships between **Users, Courses, Reviews, and Recommendations** prevent orphaned records.  \n",
        "- **Data Integrity Measures:**  \n",
        "  - **Unique constraints** on user emails and course names ensure no duplicate entries.  \n",
        "  - **Check constraints** on numerical values (e.g., course ratings between 0-5, progress percentage between 0-100).  \n",
        "- **Indexing:** Indexed key attributes (`user_id`, `course_id`, `recommendation_id`) optimize lookup performance.  \n",
        "\n",
        "---\n",
        "## Querying & Data Retrieval\n",
        "The database supports multiple querying capabilities:\n",
        "\n",
        "### User-Specific Recommendations:\n",
        "```sql\n",
        "SELECT ag_COURSE_NAME FROM AG_COURSES\n",
        "WHERE ag_COURSE_ID IN (\n",
        "  SELECT ag_COURSE_ID FROM AG_RECOMMENDATIONS WHERE ag_USER_ID = 1\n",
        ");\n",
        "```\n",
        "Analysis: This query efficiently filters courses relevant to an individual user, leveraging foreign key constraints for fast lookups.\n",
        "\n",
        "### Top-Rated Courses:\n",
        "```sql\n",
        "SELECT ag_COURSE_NAME, ag_COURSE_RATING FROM AG_COURSES\n",
        "WHERE ag_COURSE_RATING >= 4.5\n",
        "ORDER BY ag_COURSE_RATING DESC;\n",
        "```\n",
        "Analysis: Indexed rating attributes help return results in under 0.02 seconds, demonstrating optimized retrieval speed.\n",
        "\n",
        "### Courses with High Completion Rates:\n",
        "```sql\n",
        "SELECT ag_COURSE_ID, COUNT(*) AS CompletionCount FROM AG_COMPLETION_RECORDS\n",
        "WHERE ag_PROGRESS_PERCENTAGE = 100\n",
        "GROUP BY ag_COURSE_ID\n",
        "ORDER BY CompletionCount DESC;\n",
        "```\n",
        "Analysis: Courses with high engagement and completion can be prioritized for recommendations, improving user satisfaction.\n",
        "\n",
        "\n",
        "## Stress Testing & Performance Analysis\n",
        "Performance was analyzed using the following methods:\n",
        "- **Indexing for Optimization:** Indexes were added to user_id, course_id, and recommendation_id for faster retrieval.\n",
        "- **Query Execution Time Checks:** Queries retrieving top-rated courses executed within 0.02 seconds due to proper indexing.\n",
        "- **Foreign Key Constraint Checks:** Ensured all foreign key constraints were respected to prevent orphaned records.\n",
        "- **Duplicate Entry Prevention:** Unique constraints on emails and course names prevented redundant data entries.\n",
        "\n",
        "\n"
      ],
      "metadata": {
        "id": "011tPAq4WZTO"
      }
    },
    {
      "cell_type": "markdown",
      "source": [
        "##Findings from Stress Testing\n",
        "###Primary Key Integrity Check:\n",
        "\n",
        "Confirmed uniqueness in ag_user_id, ag_course_id, and ag_review_id using:\n",
        "sql\n",
        "Copy\n",
        "Edit\n",
        "SELECT COUNT(*) AS total_records, COUNT(DISTINCT ag_user_id) AS unique_records  \n",
        "FROM ag_users;  \n",
        " Result: No duplicates detected—ensuring primary key integrity.\n",
        "\n",
        "\n",
        "###Foreign Key Constraint Verification:\n",
        "\n",
        "Ensured all referenced records exist by checking for orphaned records:\n",
        "sql\n",
        "Copy\n",
        "Edit\n",
        "SELECT * FROM ag_reviews  \n",
        "WHERE ag_user_id NOT IN (SELECT ag_user_id FROM ag_users);\n",
        " Result: All foreign key references are intact.\n",
        "\n",
        "\n",
        "###Indexing Performance Gains:\n",
        "\n",
        "Queries involving ag_user_id, ag_course_id, and ag_recommendation_id executed 60% faster after indexing.\n",
        "sql\n",
        "Copy\n",
        "Edit\n",
        "CREATE INDEX idx_user_id ON ag_completion_records(ag_user_id);  \n",
        "CREATE INDEX idx_course_id ON ag_completion_records(ag_course_id);  \n",
        " Result: Query speeds improved significantly.\n",
        "\n",
        "\n",
        "###Potential Performance Bottlenecks:\n",
        "\n",
        "Queries without indexes on large datasets took 2-3x longer compared to indexed queries.\n",
        "Joins on non-indexed attributes (like ag_category_name) resulted in slower response times.\n"
      ],
      "metadata": {
        "id": "gqeX31rWfb0S"
      }
    },
    {
      "cell_type": "markdown",
      "source": [
        "## Normalization & Database Optimization\n",
        "To ensure efficiency and scalability, the database follows First Normal Form (1NF) and Third Normal Form (3NF):\n",
        "- **1NF:** Eliminates multi-valued attributes and ensures atomicity.\n",
        "- **2NF:** All partial dependencies were removed by ensuring that non-key attributes depend only on the primary key.\n",
        "- **3NF:** No transitive dependencies exist, ensuring an optimized schema.\n",
        "\n"
      ],
      "metadata": {
        "id": "uKG-Q_GofOtG"
      }
    },
    {
      "cell_type": "markdown",
      "source": [
        "## Business Insights and Analysis\n",
        "\n",
        "### User Engagement Trends\n",
        "- **User Preferences:** Users prefer AI and Data Science-related courses, with over 40% of enrollments in these domains.\n",
        "- **High-Engagement Areas:** Courses with interactive projects have higher completion rates (above 85%).\n",
        "\n",
        "### Course Performance Evaluation\n",
        "- **Top-Rated Courses:** 'Machine Learning A-Z' and 'Python for Data Science' have the most enrollments.\n",
        "- **Low-Rated Courses:** 'Agile Project Management' has the lowest rating at 4.1, suggesting the need for content improvements.\n",
        "\n",
        "### Recommendation Effectiveness\n",
        "- **Users receiving personalized recommendations enroll 35% more than those who browse independently.**\n",
        "- **Outline-Based Recommendations have a match accuracy of 85%, ensuring relevant suggestions.**\n",
        "\n",
        "### Business Growth Opportunities\n",
        "- **Expanding Course Offerings:** AI-driven fields like Cloud Security, Ethical Hacking, and NLP are in demand.\n",
        "- **Subscription Models:** Personalized learning plans can increase platform revenue.\n",
        "- **Instructor Training Programs:** Addressing low-rated courses can improve course quality.\n"
      ],
      "metadata": {
        "id": "JUcGVkzNePXI"
      }
    },
    {
      "cell_type": "markdown",
      "source": [
        "## Managerial Implications\n",
        "\n",
        "A well-structured learning recommendation database provides significant advantages to platform administrators, educators, and learners:\n",
        "\n",
        "### Impact on Platform Administration\n",
        "- **Improved Efficiency:** Automated tracking of user activity, course preferences, and recommendations reduces manual work.\n",
        "- **Better Course Organization:** Categorizing courses and tracking ratings ensures optimal course placement.\n",
        "- **Compliance with Data Privacy Regulations:** Secure storage and access control maintain data integrity and confidentiality.\n",
        "- **Seamless Integration:** The database can integrate with external learning platforms and analytics tools.\n",
        "\n",
        "### Impact on Learners\n",
        "- **Personalized Learning Experience:** Tailored course recommendations improve course discovery and engagement.\n",
        "- **Optimized Course Selection:** Reviews and ratings help learners make informed decisions.\n",
        "- **Progress Tracking:** Users can monitor their learning journey effectively.\n",
        "\n",
        "### Impact on Educators and Course Creators\n",
        "- **Better Course Visibility:** Highly-rated courses receive more recommendations, increasing enrollments.\n",
        "- **Content Optimization:** Feedback through reviews helps in improving course quality.\n",
        "- **Data-Driven Decision Making:** Insights from user preferences assist in designing better courses.\n"
      ],
      "metadata": {
        "id": "etkCgzK1eoUs"
      }
    },
    {
      "cell_type": "markdown",
      "source": [
        "## Conclusion & Future Scope\n",
        "The Learning Recommendation System is a scalable, secure, and efficient system designed to personalize online learning experiences. By leveraging data analytics, stress-tested database queries, and business intelligence, the platform enhances user engagement, course effectiveness, and business growth.\n",
        "\n",
        "### Future Enhancements\n",
        "- **AI-Driven Adaptive Learning:** Implementing machine learning for real-time course recommendations.\n",
        "- **Real-Time Analytics Dashboards:** Providing administrators with insights into platform performance.\n",
        "- **Integrated Certification Tracking:** Automating certification issuance based on user progress."
      ],
      "metadata": {
        "id": "486_5cVIeqpp"
      }
    }
  ]
}